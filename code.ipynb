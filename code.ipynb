{
 "cells": [
  {
   "cell_type": "code",
   "execution_count": 6,
   "metadata": {},
   "outputs": [],
   "source": [
    "from tkinter import * "
   ]
  },
  {
   "cell_type": "code",
   "execution_count": 7,
   "metadata": {},
   "outputs": [],
   "source": [
    "from tkinter import ttk"
   ]
  },
  {
   "cell_type": "code",
   "execution_count": 8,
   "metadata": {},
   "outputs": [],
   "source": [
    "from tkinter import messagebox"
   ]
  },
  {
   "cell_type": "code",
   "execution_count": 9,
   "metadata": {},
   "outputs": [],
   "source": [
    "root = Tk()\n",
    "frame_header = ttk.Frame(root)\n",
    "frame_header.pack()\n",
    "\n",
    "headerlabel = ttk.Label(frame_header, text='FEEDBACK STSTEM', foreground='green',\n",
    "                        font=('Bold', 24))\n",
    "headerlabel.grid(row=0, column=1)\n",
    "\n",
    "messagelabel = ttk.Label(frame_header,\n",
    "                         text='PLEASE GIVE YOUR FEEDBACK!',\n",
    "                         foreground='red', font=('Arial', 10))\n",
    "\n",
    "messagelabel.grid(row=1, column=1)\n",
    "\n",
    "\n",
    "frame_content = ttk.Frame(root)\n",
    "frame_content.pack()\n",
    "myvar = StringVar()\n",
    "var = StringVar()\n",
    "\n",
    "namelabel = ttk.Label(frame_content, text='Name')\n",
    "namelabel.grid(row=0, column=0, padx=5, sticky='sw')\n",
    "entry_name = ttk.Entry(frame_content, width=18, font=('Arial', 14), textvariable=myvar)\n",
    "entry_name.grid(row=1, column=0)\n",
    "\n",
    "emaillabel = ttk.Label(frame_content, text='Email')\n",
    "emaillabel.grid(row=0, column=1, sticky='sw')\n",
    "entry_email = ttk.Entry(frame_content, width=18, font=('Arial', 14), textvariable=var)\n",
    "entry_email.grid(row=1, column=1)\n",
    "\n",
    "commentlabel = ttk.Label(frame_content, text='Comment', font=('Arial', 10))\n",
    "commentlabel.grid(row=2, column=0, sticky='sw')\n",
    "textcomment = Text(frame_content, width=55, height=10)\n",
    "textcomment.grid(row=3, column=0, columnspan=2)\n",
    "\n",
    "textcomment.config(wrap ='word')"
   ]
  },
  {
   "cell_type": "code",
   "execution_count": 10,
   "metadata": {},
   "outputs": [],
   "source": [
    "def clear():\n",
    "    global entry_name\n",
    "    global entry_email\n",
    "    global textcomment\n",
    "    messagebox.showinfo(title='clear', message='Do you want to clear?')\n",
    "    entry_name.delete(0, END)\n",
    "    entry_email.delete(0, END)\n",
    "    textcomment.delete(1.0, END)"
   ]
  },
  {
   "cell_type": "code",
   "execution_count": 11,
   "metadata": {},
   "outputs": [],
   "source": [
    "def submit():\n",
    "    global entry_name\n",
    "    global entry_email\n",
    "    global textcomment\n",
    "    print('Name:{}'.format(myvar.get()))\n",
    "    print('Email:{}'.format(var.get()))\n",
    "    print('Comment:{}'.format(textcomment.get(1.0, END)))\n",
    "    messagebox.showinfo(title='Submit', message='Thank you for your Feedback, Your Comments Submited')\n",
    "    entry_name.delete(0, END)\n",
    "    entry_email.delete(0, END)\n",
    "    textcomment.delete(1.0, END)"
   ]
  },
  {
   "cell_type": "code",
   "execution_count": 12,
   "metadata": {},
   "outputs": [],
   "source": [
    "submitbutton = ttk.Button(frame_content, text='Submit', command=submit).grid(row=4, column=0, sticky='e')\n",
    "clearbutton = ttk.Button(frame_content, text='Clear', command=clear).grid(row=4, column=1, sticky='w')\n",
    "\n",
    "mainloop()"
   ]
  }
 ],
 "metadata": {
  "kernelspec": {
   "display_name": "Python 3.10.2 64-bit",
   "language": "python",
   "name": "python3"
  },
  "language_info": {
   "codemirror_mode": {
    "name": "ipython",
    "version": 3
   },
   "file_extension": ".py",
   "mimetype": "text/x-python",
   "name": "python",
   "nbconvert_exporter": "python",
   "pygments_lexer": "ipython3",
   "version": "3.10.2"
  },
  "orig_nbformat": 4,
  "vscode": {
   "interpreter": {
    "hash": "e1f25309a4172e5e32f55b6ca2454ae9996c949c5f66d43eb6213a1768e85b26"
   }
  }
 },
 "nbformat": 4,
 "nbformat_minor": 2
}
